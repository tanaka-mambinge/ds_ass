{
 "cells": [
  {
   "cell_type": "markdown",
   "id": "fa6af6ab-a102-4b7f-b6a3-7e7acb96ef72",
   "metadata": {
    "tags": []
   },
   "source": [
    "## Student details\n",
    "\n",
    "- Name: Tanaka Mambinge\n",
    "- Reg number: R223585Q\n",
    "- Programme: HDS"
   ]
  },
  {
   "cell_type": "markdown",
   "id": "2832523b-827c-4813-86b1-331a822a8af9",
   "metadata": {},
   "source": [
    "## Importing libraries"
   ]
  },
  {
   "cell_type": "code",
   "execution_count": 132,
   "id": "5c59107c-adc1-45cc-8ecd-046b9c12596f",
   "metadata": {
    "tags": []
   },
   "outputs": [],
   "source": [
    "import math\n",
    "import random\n",
    "\n",
    "import matplotlib.pyplot as plt\n",
    "import numpy as np\n",
    "import pandas as pd\n",
    "import seaborn as sns\n",
    "from scipy import stats"
   ]
  },
  {
   "cell_type": "markdown",
   "id": "fd7d8045-12ed-4c4f-bad4-b414f5fe69f9",
   "metadata": {},
   "source": [
    "## Load data"
   ]
  },
  {
   "cell_type": "code",
   "execution_count": 87,
   "id": "dffbb392-21d8-451a-9eb7-3d1f2b836075",
   "metadata": {
    "tags": []
   },
   "outputs": [],
   "source": [
    "# create a list of the data from the file\n",
    "def str_to_int(a):\n",
    "    if isinstance(a, str):\n",
    "        a = a.strip()\n",
    "    return int(a) if a.isdigit() else 0\n",
    "\n",
    "\n",
    "with open(\"data/adult.data\", \"r\") as file:\n",
    "    temp_data = file.read()\n",
    "    temp_data = temp_data.split(\"\\n\")\n",
    "    temp_data = [r.split(\",\") for r in temp_data]\n",
    "    cols_to_convert = [0, 2, 4, 10, 11, 12]\n",
    "    data = []\n",
    "\n",
    "    for r in temp_data:\n",
    "        if len(r) == 15:\n",
    "            data.append(\n",
    "                [\n",
    "                    str_to_int(item) if idx in cols_to_convert else str(item).strip()\n",
    "                    for idx, item in enumerate(r)\n",
    "                ]\n",
    "            )"
   ]
  },
  {
   "cell_type": "code",
   "execution_count": 88,
   "id": "35430fd9-6cb0-40d0-865b-d29a96f28b99",
   "metadata": {
    "tags": []
   },
   "outputs": [
    {
     "name": "stdout",
     "output_type": "stream",
     "text": [
      "[[50, 'Self-emp-not-inc', 83311, 'Bachelors', 13, 'Married-civ-spouse', 'Exec-managerial', 'Husband', 'White', 'Male', 0, 0, 13, 'United-States', '<=50K']]\n"
     ]
    }
   ],
   "source": [
    "print(data[1:2])"
   ]
  },
  {
   "cell_type": "code",
   "execution_count": 89,
   "id": "b9f5a783-1048-49d4-a04f-ee3798938e1f",
   "metadata": {
    "tags": []
   },
   "outputs": [],
   "source": [
    "# creating df\n",
    "cols = [\n",
    "    \"age\",\n",
    "    \"type_employer\",\n",
    "    \"fnlwgt\",\n",
    "    \"education\",\n",
    "    \"education_num\",\n",
    "    \"marital\",\n",
    "    \"occupation\",\n",
    "    \"relationship\",\n",
    "    \"race\",\n",
    "    \"sex\",\n",
    "    \"capital_gain\",\n",
    "    \"capital_loss\",\n",
    "    \"hr_per_week\",\n",
    "    \"country\",\n",
    "    \"income\",\n",
    "]\n",
    "df = pd.DataFrame(data, columns=cols)"
   ]
  },
  {
   "cell_type": "code",
   "execution_count": 90,
   "id": "971e70b7-e603-4fad-aad5-cf54affa69e5",
   "metadata": {
    "tags": []
   },
   "outputs": [
    {
     "data": {
      "text/plain": [
       "(32561, 15)"
      ]
     },
     "execution_count": 90,
     "metadata": {},
     "output_type": "execute_result"
    }
   ],
   "source": [
    "# the shape attr returns a tuple containing n_rows and n_cols\n",
    "df.shape"
   ]
  },
  {
   "cell_type": "code",
   "execution_count": 91,
   "id": "7400101f-0b69-4c3a-bacc-0d0e3f3bae09",
   "metadata": {
    "tags": []
   },
   "outputs": [
    {
     "name": "stdout",
     "output_type": "stream",
     "text": [
      "country\n",
      "?           583\n",
      "Cambodia     19\n",
      "Canada      121\n",
      "China        75\n",
      "Columbia     59\n",
      "dtype: int64\n"
     ]
    }
   ],
   "source": [
    "counts = df.groupby(\"country\").size()\n",
    "print(counts.head())"
   ]
  },
  {
   "cell_type": "code",
   "execution_count": 92,
   "id": "18090534-1ddc-4f88-b61a-65cfd6aed10e",
   "metadata": {
    "tags": []
   },
   "outputs": [
    {
     "data": {
      "text/plain": [
       "<bound method Series.unique of 0          Male\n",
       "1          Male\n",
       "2          Male\n",
       "3          Male\n",
       "4        Female\n",
       "          ...  \n",
       "32556    Female\n",
       "32557      Male\n",
       "32558    Female\n",
       "32559      Male\n",
       "32560    Female\n",
       "Name: sex, Length: 32561, dtype: object>"
      ]
     },
     "execution_count": 92,
     "metadata": {},
     "output_type": "execute_result"
    }
   ],
   "source": [
    "df.sex.unique"
   ]
  },
  {
   "cell_type": "code",
   "execution_count": 93,
   "id": "6cfe86c1-fac5-41fb-a710-866f86b15f62",
   "metadata": {
    "tags": []
   },
   "outputs": [
    {
     "data": {
      "text/plain": [
       "0         True\n",
       "1         True\n",
       "2         True\n",
       "3         True\n",
       "4        False\n",
       "         ...  \n",
       "32556    False\n",
       "32557     True\n",
       "32558    False\n",
       "32559     True\n",
       "32560    False\n",
       "Name: sex, Length: 32561, dtype: bool"
      ]
     },
     "execution_count": 93,
     "metadata": {},
     "output_type": "execute_result"
    }
   ],
   "source": [
    "df.sex == \"Male\""
   ]
  },
  {
   "cell_type": "code",
   "execution_count": 94,
   "id": "55b28bff-be1b-4f0b-a0c4-1c6faf13a44b",
   "metadata": {
    "tags": []
   },
   "outputs": [
    {
     "data": {
      "text/html": [
       "<div>\n",
       "<style scoped>\n",
       "    .dataframe tbody tr th:only-of-type {\n",
       "        vertical-align: middle;\n",
       "    }\n",
       "\n",
       "    .dataframe tbody tr th {\n",
       "        vertical-align: top;\n",
       "    }\n",
       "\n",
       "    .dataframe thead th {\n",
       "        text-align: right;\n",
       "    }\n",
       "</style>\n",
       "<table border=\"1\" class=\"dataframe\">\n",
       "  <thead>\n",
       "    <tr style=\"text-align: right;\">\n",
       "      <th></th>\n",
       "      <th>age</th>\n",
       "      <th>type_employer</th>\n",
       "      <th>fnlwgt</th>\n",
       "      <th>education</th>\n",
       "      <th>education_num</th>\n",
       "      <th>marital</th>\n",
       "      <th>occupation</th>\n",
       "      <th>relationship</th>\n",
       "      <th>race</th>\n",
       "      <th>sex</th>\n",
       "      <th>capital_gain</th>\n",
       "      <th>capital_loss</th>\n",
       "      <th>hr_per_week</th>\n",
       "      <th>country</th>\n",
       "      <th>income</th>\n",
       "    </tr>\n",
       "  </thead>\n",
       "  <tbody>\n",
       "    <tr>\n",
       "      <th>0</th>\n",
       "      <td>39</td>\n",
       "      <td>State-gov</td>\n",
       "      <td>77516</td>\n",
       "      <td>Bachelors</td>\n",
       "      <td>13</td>\n",
       "      <td>Never-married</td>\n",
       "      <td>Adm-clerical</td>\n",
       "      <td>Not-in-family</td>\n",
       "      <td>White</td>\n",
       "      <td>Male</td>\n",
       "      <td>2174</td>\n",
       "      <td>0</td>\n",
       "      <td>40</td>\n",
       "      <td>United-States</td>\n",
       "      <td>&lt;=50K</td>\n",
       "    </tr>\n",
       "    <tr>\n",
       "      <th>1</th>\n",
       "      <td>50</td>\n",
       "      <td>Self-emp-not-inc</td>\n",
       "      <td>83311</td>\n",
       "      <td>Bachelors</td>\n",
       "      <td>13</td>\n",
       "      <td>Married-civ-spouse</td>\n",
       "      <td>Exec-managerial</td>\n",
       "      <td>Husband</td>\n",
       "      <td>White</td>\n",
       "      <td>Male</td>\n",
       "      <td>0</td>\n",
       "      <td>0</td>\n",
       "      <td>13</td>\n",
       "      <td>United-States</td>\n",
       "      <td>&lt;=50K</td>\n",
       "    </tr>\n",
       "    <tr>\n",
       "      <th>2</th>\n",
       "      <td>38</td>\n",
       "      <td>Private</td>\n",
       "      <td>215646</td>\n",
       "      <td>HS-grad</td>\n",
       "      <td>9</td>\n",
       "      <td>Divorced</td>\n",
       "      <td>Handlers-cleaners</td>\n",
       "      <td>Not-in-family</td>\n",
       "      <td>White</td>\n",
       "      <td>Male</td>\n",
       "      <td>0</td>\n",
       "      <td>0</td>\n",
       "      <td>40</td>\n",
       "      <td>United-States</td>\n",
       "      <td>&lt;=50K</td>\n",
       "    </tr>\n",
       "    <tr>\n",
       "      <th>3</th>\n",
       "      <td>53</td>\n",
       "      <td>Private</td>\n",
       "      <td>234721</td>\n",
       "      <td>11th</td>\n",
       "      <td>7</td>\n",
       "      <td>Married-civ-spouse</td>\n",
       "      <td>Handlers-cleaners</td>\n",
       "      <td>Husband</td>\n",
       "      <td>Black</td>\n",
       "      <td>Male</td>\n",
       "      <td>0</td>\n",
       "      <td>0</td>\n",
       "      <td>40</td>\n",
       "      <td>United-States</td>\n",
       "      <td>&lt;=50K</td>\n",
       "    </tr>\n",
       "    <tr>\n",
       "      <th>7</th>\n",
       "      <td>52</td>\n",
       "      <td>Self-emp-not-inc</td>\n",
       "      <td>209642</td>\n",
       "      <td>HS-grad</td>\n",
       "      <td>9</td>\n",
       "      <td>Married-civ-spouse</td>\n",
       "      <td>Exec-managerial</td>\n",
       "      <td>Husband</td>\n",
       "      <td>White</td>\n",
       "      <td>Male</td>\n",
       "      <td>0</td>\n",
       "      <td>0</td>\n",
       "      <td>45</td>\n",
       "      <td>United-States</td>\n",
       "      <td>&gt;50K</td>\n",
       "    </tr>\n",
       "  </tbody>\n",
       "</table>\n",
       "</div>"
      ],
      "text/plain": [
       "   age     type_employer  fnlwgt  education  education_num  \\\n",
       "0   39         State-gov   77516  Bachelors             13   \n",
       "1   50  Self-emp-not-inc   83311  Bachelors             13   \n",
       "2   38           Private  215646    HS-grad              9   \n",
       "3   53           Private  234721       11th              7   \n",
       "7   52  Self-emp-not-inc  209642    HS-grad              9   \n",
       "\n",
       "              marital         occupation   relationship   race   sex  \\\n",
       "0       Never-married       Adm-clerical  Not-in-family  White  Male   \n",
       "1  Married-civ-spouse    Exec-managerial        Husband  White  Male   \n",
       "2            Divorced  Handlers-cleaners  Not-in-family  White  Male   \n",
       "3  Married-civ-spouse  Handlers-cleaners        Husband  Black  Male   \n",
       "7  Married-civ-spouse    Exec-managerial        Husband  White  Male   \n",
       "\n",
       "   capital_gain  capital_loss  hr_per_week        country income  \n",
       "0          2174             0           40  United-States  <=50K  \n",
       "1             0             0           13  United-States  <=50K  \n",
       "2             0             0           40  United-States  <=50K  \n",
       "3             0             0           40  United-States  <=50K  \n",
       "7             0             0           45  United-States   >50K  "
      ]
     },
     "execution_count": 94,
     "metadata": {},
     "output_type": "execute_result"
    }
   ],
   "source": [
    "males_mask = df.sex == \"Male\"\n",
    "males = df[males_mask]\n",
    "males.head()"
   ]
  },
  {
   "cell_type": "code",
   "execution_count": 95,
   "id": "9843cabd-89cd-414c-9068-367d35f27ed7",
   "metadata": {},
   "outputs": [
    {
     "data": {
      "text/html": [
       "<div>\n",
       "<style scoped>\n",
       "    .dataframe tbody tr th:only-of-type {\n",
       "        vertical-align: middle;\n",
       "    }\n",
       "\n",
       "    .dataframe tbody tr th {\n",
       "        vertical-align: top;\n",
       "    }\n",
       "\n",
       "    .dataframe thead th {\n",
       "        text-align: right;\n",
       "    }\n",
       "</style>\n",
       "<table border=\"1\" class=\"dataframe\">\n",
       "  <thead>\n",
       "    <tr style=\"text-align: right;\">\n",
       "      <th></th>\n",
       "      <th>age</th>\n",
       "      <th>type_employer</th>\n",
       "      <th>fnlwgt</th>\n",
       "      <th>education</th>\n",
       "      <th>education_num</th>\n",
       "      <th>marital</th>\n",
       "      <th>occupation</th>\n",
       "      <th>relationship</th>\n",
       "      <th>race</th>\n",
       "      <th>sex</th>\n",
       "      <th>capital_gain</th>\n",
       "      <th>capital_loss</th>\n",
       "      <th>hr_per_week</th>\n",
       "      <th>country</th>\n",
       "      <th>income</th>\n",
       "    </tr>\n",
       "  </thead>\n",
       "  <tbody>\n",
       "    <tr>\n",
       "      <th>7</th>\n",
       "      <td>52</td>\n",
       "      <td>Self-emp-not-inc</td>\n",
       "      <td>209642</td>\n",
       "      <td>HS-grad</td>\n",
       "      <td>9</td>\n",
       "      <td>Married-civ-spouse</td>\n",
       "      <td>Exec-managerial</td>\n",
       "      <td>Husband</td>\n",
       "      <td>White</td>\n",
       "      <td>Male</td>\n",
       "      <td>0</td>\n",
       "      <td>0</td>\n",
       "      <td>45</td>\n",
       "      <td>United-States</td>\n",
       "      <td>&gt;50K</td>\n",
       "    </tr>\n",
       "    <tr>\n",
       "      <th>9</th>\n",
       "      <td>42</td>\n",
       "      <td>Private</td>\n",
       "      <td>159449</td>\n",
       "      <td>Bachelors</td>\n",
       "      <td>13</td>\n",
       "      <td>Married-civ-spouse</td>\n",
       "      <td>Exec-managerial</td>\n",
       "      <td>Husband</td>\n",
       "      <td>White</td>\n",
       "      <td>Male</td>\n",
       "      <td>5178</td>\n",
       "      <td>0</td>\n",
       "      <td>40</td>\n",
       "      <td>United-States</td>\n",
       "      <td>&gt;50K</td>\n",
       "    </tr>\n",
       "    <tr>\n",
       "      <th>10</th>\n",
       "      <td>37</td>\n",
       "      <td>Private</td>\n",
       "      <td>280464</td>\n",
       "      <td>Some-college</td>\n",
       "      <td>10</td>\n",
       "      <td>Married-civ-spouse</td>\n",
       "      <td>Exec-managerial</td>\n",
       "      <td>Husband</td>\n",
       "      <td>Black</td>\n",
       "      <td>Male</td>\n",
       "      <td>0</td>\n",
       "      <td>0</td>\n",
       "      <td>80</td>\n",
       "      <td>United-States</td>\n",
       "      <td>&gt;50K</td>\n",
       "    </tr>\n",
       "    <tr>\n",
       "      <th>11</th>\n",
       "      <td>30</td>\n",
       "      <td>State-gov</td>\n",
       "      <td>141297</td>\n",
       "      <td>Bachelors</td>\n",
       "      <td>13</td>\n",
       "      <td>Married-civ-spouse</td>\n",
       "      <td>Prof-specialty</td>\n",
       "      <td>Husband</td>\n",
       "      <td>Asian-Pac-Islander</td>\n",
       "      <td>Male</td>\n",
       "      <td>0</td>\n",
       "      <td>0</td>\n",
       "      <td>40</td>\n",
       "      <td>India</td>\n",
       "      <td>&gt;50K</td>\n",
       "    </tr>\n",
       "    <tr>\n",
       "      <th>14</th>\n",
       "      <td>40</td>\n",
       "      <td>Private</td>\n",
       "      <td>121772</td>\n",
       "      <td>Assoc-voc</td>\n",
       "      <td>11</td>\n",
       "      <td>Married-civ-spouse</td>\n",
       "      <td>Craft-repair</td>\n",
       "      <td>Husband</td>\n",
       "      <td>Asian-Pac-Islander</td>\n",
       "      <td>Male</td>\n",
       "      <td>0</td>\n",
       "      <td>0</td>\n",
       "      <td>40</td>\n",
       "      <td>?</td>\n",
       "      <td>&gt;50K</td>\n",
       "    </tr>\n",
       "  </tbody>\n",
       "</table>\n",
       "</div>"
      ],
      "text/plain": [
       "    age     type_employer  fnlwgt     education  education_num  \\\n",
       "7    52  Self-emp-not-inc  209642       HS-grad              9   \n",
       "9    42           Private  159449     Bachelors             13   \n",
       "10   37           Private  280464  Some-college             10   \n",
       "11   30         State-gov  141297     Bachelors             13   \n",
       "14   40           Private  121772     Assoc-voc             11   \n",
       "\n",
       "               marital       occupation relationship                race  \\\n",
       "7   Married-civ-spouse  Exec-managerial      Husband               White   \n",
       "9   Married-civ-spouse  Exec-managerial      Husband               White   \n",
       "10  Married-civ-spouse  Exec-managerial      Husband               Black   \n",
       "11  Married-civ-spouse   Prof-specialty      Husband  Asian-Pac-Islander   \n",
       "14  Married-civ-spouse     Craft-repair      Husband  Asian-Pac-Islander   \n",
       "\n",
       "     sex  capital_gain  capital_loss  hr_per_week        country income  \n",
       "7   Male             0             0           45  United-States   >50K  \n",
       "9   Male          5178             0           40  United-States   >50K  \n",
       "10  Male             0             0           80  United-States   >50K  \n",
       "11  Male             0             0           40          India   >50K  \n",
       "14  Male             0             0           40              ?   >50K  "
      ]
     },
     "execution_count": 95,
     "metadata": {},
     "output_type": "execute_result"
    }
   ],
   "source": [
    "h_income_mask = df.income == \">50K\"\n",
    "h_income_males = df[males_mask & h_income_mask]\n",
    "h_income_males.head()"
   ]
  },
  {
   "cell_type": "code",
   "execution_count": 96,
   "id": "ea95f4f5-1b76-40e9-a09d-3a3a8b39a84b",
   "metadata": {
    "tags": []
   },
   "outputs": [
    {
     "data": {
      "text/html": [
       "<div>\n",
       "<style scoped>\n",
       "    .dataframe tbody tr th:only-of-type {\n",
       "        vertical-align: middle;\n",
       "    }\n",
       "\n",
       "    .dataframe tbody tr th {\n",
       "        vertical-align: top;\n",
       "    }\n",
       "\n",
       "    .dataframe thead th {\n",
       "        text-align: right;\n",
       "    }\n",
       "</style>\n",
       "<table border=\"1\" class=\"dataframe\">\n",
       "  <thead>\n",
       "    <tr style=\"text-align: right;\">\n",
       "      <th></th>\n",
       "      <th>age</th>\n",
       "      <th>type_employer</th>\n",
       "      <th>fnlwgt</th>\n",
       "      <th>education</th>\n",
       "      <th>education_num</th>\n",
       "      <th>marital</th>\n",
       "      <th>occupation</th>\n",
       "      <th>relationship</th>\n",
       "      <th>race</th>\n",
       "      <th>sex</th>\n",
       "      <th>capital_gain</th>\n",
       "      <th>capital_loss</th>\n",
       "      <th>hr_per_week</th>\n",
       "      <th>country</th>\n",
       "      <th>income</th>\n",
       "    </tr>\n",
       "  </thead>\n",
       "  <tbody>\n",
       "    <tr>\n",
       "      <th>4</th>\n",
       "      <td>28</td>\n",
       "      <td>Private</td>\n",
       "      <td>338409</td>\n",
       "      <td>Bachelors</td>\n",
       "      <td>13</td>\n",
       "      <td>Married-civ-spouse</td>\n",
       "      <td>Prof-specialty</td>\n",
       "      <td>Wife</td>\n",
       "      <td>Black</td>\n",
       "      <td>Female</td>\n",
       "      <td>0</td>\n",
       "      <td>0</td>\n",
       "      <td>40</td>\n",
       "      <td>Cuba</td>\n",
       "      <td>&lt;=50K</td>\n",
       "    </tr>\n",
       "    <tr>\n",
       "      <th>5</th>\n",
       "      <td>37</td>\n",
       "      <td>Private</td>\n",
       "      <td>284582</td>\n",
       "      <td>Masters</td>\n",
       "      <td>14</td>\n",
       "      <td>Married-civ-spouse</td>\n",
       "      <td>Exec-managerial</td>\n",
       "      <td>Wife</td>\n",
       "      <td>White</td>\n",
       "      <td>Female</td>\n",
       "      <td>0</td>\n",
       "      <td>0</td>\n",
       "      <td>40</td>\n",
       "      <td>United-States</td>\n",
       "      <td>&lt;=50K</td>\n",
       "    </tr>\n",
       "    <tr>\n",
       "      <th>6</th>\n",
       "      <td>49</td>\n",
       "      <td>Private</td>\n",
       "      <td>160187</td>\n",
       "      <td>9th</td>\n",
       "      <td>5</td>\n",
       "      <td>Married-spouse-absent</td>\n",
       "      <td>Other-service</td>\n",
       "      <td>Not-in-family</td>\n",
       "      <td>Black</td>\n",
       "      <td>Female</td>\n",
       "      <td>0</td>\n",
       "      <td>0</td>\n",
       "      <td>16</td>\n",
       "      <td>Jamaica</td>\n",
       "      <td>&lt;=50K</td>\n",
       "    </tr>\n",
       "    <tr>\n",
       "      <th>8</th>\n",
       "      <td>31</td>\n",
       "      <td>Private</td>\n",
       "      <td>45781</td>\n",
       "      <td>Masters</td>\n",
       "      <td>14</td>\n",
       "      <td>Never-married</td>\n",
       "      <td>Prof-specialty</td>\n",
       "      <td>Not-in-family</td>\n",
       "      <td>White</td>\n",
       "      <td>Female</td>\n",
       "      <td>14084</td>\n",
       "      <td>0</td>\n",
       "      <td>50</td>\n",
       "      <td>United-States</td>\n",
       "      <td>&gt;50K</td>\n",
       "    </tr>\n",
       "    <tr>\n",
       "      <th>12</th>\n",
       "      <td>23</td>\n",
       "      <td>Private</td>\n",
       "      <td>122272</td>\n",
       "      <td>Bachelors</td>\n",
       "      <td>13</td>\n",
       "      <td>Never-married</td>\n",
       "      <td>Adm-clerical</td>\n",
       "      <td>Own-child</td>\n",
       "      <td>White</td>\n",
       "      <td>Female</td>\n",
       "      <td>0</td>\n",
       "      <td>0</td>\n",
       "      <td>30</td>\n",
       "      <td>United-States</td>\n",
       "      <td>&lt;=50K</td>\n",
       "    </tr>\n",
       "  </tbody>\n",
       "</table>\n",
       "</div>"
      ],
      "text/plain": [
       "    age type_employer  fnlwgt  education  education_num  \\\n",
       "4    28       Private  338409  Bachelors             13   \n",
       "5    37       Private  284582    Masters             14   \n",
       "6    49       Private  160187        9th              5   \n",
       "8    31       Private   45781    Masters             14   \n",
       "12   23       Private  122272  Bachelors             13   \n",
       "\n",
       "                  marital       occupation   relationship   race     sex  \\\n",
       "4      Married-civ-spouse   Prof-specialty           Wife  Black  Female   \n",
       "5      Married-civ-spouse  Exec-managerial           Wife  White  Female   \n",
       "6   Married-spouse-absent    Other-service  Not-in-family  Black  Female   \n",
       "8           Never-married   Prof-specialty  Not-in-family  White  Female   \n",
       "12          Never-married     Adm-clerical      Own-child  White  Female   \n",
       "\n",
       "    capital_gain  capital_loss  hr_per_week        country income  \n",
       "4              0             0           40           Cuba  <=50K  \n",
       "5              0             0           40  United-States  <=50K  \n",
       "6              0             0           16        Jamaica  <=50K  \n",
       "8          14084             0           50  United-States   >50K  \n",
       "12             0             0           30  United-States  <=50K  "
      ]
     },
     "execution_count": 96,
     "metadata": {},
     "output_type": "execute_result"
    }
   ],
   "source": [
    "females_mask = df.sex == \"Female\"\n",
    "females = df[females_mask]\n",
    "females.head()"
   ]
  },
  {
   "cell_type": "code",
   "execution_count": 97,
   "id": "6838ca91-0e5b-4704-8477-725995ea217b",
   "metadata": {
    "tags": []
   },
   "outputs": [
    {
     "data": {
      "text/html": [
       "<div>\n",
       "<style scoped>\n",
       "    .dataframe tbody tr th:only-of-type {\n",
       "        vertical-align: middle;\n",
       "    }\n",
       "\n",
       "    .dataframe tbody tr th {\n",
       "        vertical-align: top;\n",
       "    }\n",
       "\n",
       "    .dataframe thead th {\n",
       "        text-align: right;\n",
       "    }\n",
       "</style>\n",
       "<table border=\"1\" class=\"dataframe\">\n",
       "  <thead>\n",
       "    <tr style=\"text-align: right;\">\n",
       "      <th></th>\n",
       "      <th>age</th>\n",
       "      <th>type_employer</th>\n",
       "      <th>fnlwgt</th>\n",
       "      <th>education</th>\n",
       "      <th>education_num</th>\n",
       "      <th>marital</th>\n",
       "      <th>occupation</th>\n",
       "      <th>relationship</th>\n",
       "      <th>race</th>\n",
       "      <th>sex</th>\n",
       "      <th>capital_gain</th>\n",
       "      <th>capital_loss</th>\n",
       "      <th>hr_per_week</th>\n",
       "      <th>country</th>\n",
       "      <th>income</th>\n",
       "    </tr>\n",
       "  </thead>\n",
       "  <tbody>\n",
       "    <tr>\n",
       "      <th>4</th>\n",
       "      <td>28</td>\n",
       "      <td>Private</td>\n",
       "      <td>338409</td>\n",
       "      <td>Bachelors</td>\n",
       "      <td>13</td>\n",
       "      <td>Married-civ-spouse</td>\n",
       "      <td>Prof-specialty</td>\n",
       "      <td>Wife</td>\n",
       "      <td>Black</td>\n",
       "      <td>Female</td>\n",
       "      <td>0</td>\n",
       "      <td>0</td>\n",
       "      <td>40</td>\n",
       "      <td>Cuba</td>\n",
       "      <td>&lt;=50K</td>\n",
       "    </tr>\n",
       "    <tr>\n",
       "      <th>5</th>\n",
       "      <td>37</td>\n",
       "      <td>Private</td>\n",
       "      <td>284582</td>\n",
       "      <td>Masters</td>\n",
       "      <td>14</td>\n",
       "      <td>Married-civ-spouse</td>\n",
       "      <td>Exec-managerial</td>\n",
       "      <td>Wife</td>\n",
       "      <td>White</td>\n",
       "      <td>Female</td>\n",
       "      <td>0</td>\n",
       "      <td>0</td>\n",
       "      <td>40</td>\n",
       "      <td>United-States</td>\n",
       "      <td>&lt;=50K</td>\n",
       "    </tr>\n",
       "    <tr>\n",
       "      <th>6</th>\n",
       "      <td>49</td>\n",
       "      <td>Private</td>\n",
       "      <td>160187</td>\n",
       "      <td>9th</td>\n",
       "      <td>5</td>\n",
       "      <td>Married-spouse-absent</td>\n",
       "      <td>Other-service</td>\n",
       "      <td>Not-in-family</td>\n",
       "      <td>Black</td>\n",
       "      <td>Female</td>\n",
       "      <td>0</td>\n",
       "      <td>0</td>\n",
       "      <td>16</td>\n",
       "      <td>Jamaica</td>\n",
       "      <td>&lt;=50K</td>\n",
       "    </tr>\n",
       "    <tr>\n",
       "      <th>8</th>\n",
       "      <td>31</td>\n",
       "      <td>Private</td>\n",
       "      <td>45781</td>\n",
       "      <td>Masters</td>\n",
       "      <td>14</td>\n",
       "      <td>Never-married</td>\n",
       "      <td>Prof-specialty</td>\n",
       "      <td>Not-in-family</td>\n",
       "      <td>White</td>\n",
       "      <td>Female</td>\n",
       "      <td>14084</td>\n",
       "      <td>0</td>\n",
       "      <td>50</td>\n",
       "      <td>United-States</td>\n",
       "      <td>&gt;50K</td>\n",
       "    </tr>\n",
       "    <tr>\n",
       "      <th>12</th>\n",
       "      <td>23</td>\n",
       "      <td>Private</td>\n",
       "      <td>122272</td>\n",
       "      <td>Bachelors</td>\n",
       "      <td>13</td>\n",
       "      <td>Never-married</td>\n",
       "      <td>Adm-clerical</td>\n",
       "      <td>Own-child</td>\n",
       "      <td>White</td>\n",
       "      <td>Female</td>\n",
       "      <td>0</td>\n",
       "      <td>0</td>\n",
       "      <td>30</td>\n",
       "      <td>United-States</td>\n",
       "      <td>&lt;=50K</td>\n",
       "    </tr>\n",
       "  </tbody>\n",
       "</table>\n",
       "</div>"
      ],
      "text/plain": [
       "    age type_employer  fnlwgt  education  education_num  \\\n",
       "4    28       Private  338409  Bachelors             13   \n",
       "5    37       Private  284582    Masters             14   \n",
       "6    49       Private  160187        9th              5   \n",
       "8    31       Private   45781    Masters             14   \n",
       "12   23       Private  122272  Bachelors             13   \n",
       "\n",
       "                  marital       occupation   relationship   race     sex  \\\n",
       "4      Married-civ-spouse   Prof-specialty           Wife  Black  Female   \n",
       "5      Married-civ-spouse  Exec-managerial           Wife  White  Female   \n",
       "6   Married-spouse-absent    Other-service  Not-in-family  Black  Female   \n",
       "8           Never-married   Prof-specialty  Not-in-family  White  Female   \n",
       "12          Never-married     Adm-clerical      Own-child  White  Female   \n",
       "\n",
       "    capital_gain  capital_loss  hr_per_week        country income  \n",
       "4              0             0           40           Cuba  <=50K  \n",
       "5              0             0           40  United-States  <=50K  \n",
       "6              0             0           16        Jamaica  <=50K  \n",
       "8          14084             0           50  United-States   >50K  \n",
       "12             0             0           30  United-States  <=50K  "
      ]
     },
     "execution_count": 97,
     "metadata": {},
     "output_type": "execute_result"
    }
   ],
   "source": [
    "h_income_females = df[females_mask & h_income_mask]\n",
    "females.head()"
   ]
  },
  {
   "cell_type": "code",
   "execution_count": 98,
   "id": "e99c6aee-d79b-4062-95f0-1ab3422c165e",
   "metadata": {
    "tags": []
   },
   "outputs": [
    {
     "name": "stdout",
     "output_type": "stream",
     "text": [
      "24% of the population are high income earners.\n",
      "30% of males are high income earners.\n",
      "10% of females are high income earners.\n"
     ]
    }
   ],
   "source": [
    "h_income_earners = df[h_income_mask]\n",
    "print(\n",
    "    f\"{int(len(h_income_earners) / len(df) * 100)}% of the population are high income earners.\"\n",
    ")\n",
    "print(\n",
    "    f\"{int(len(h_income_males) / len(males) * 100)}% of males are high income earners.\"\n",
    ")\n",
    "print(\n",
    "    f\"{int(len(h_income_females) / len(females) * 100)}% of females are high income earners.\"\n",
    ")"
   ]
  },
  {
   "cell_type": "code",
   "execution_count": 99,
   "id": "4f293415-f49a-4a65-8bb5-a6f8615b6f5c",
   "metadata": {
    "tags": []
   },
   "outputs": [
    {
     "name": "stdout",
     "output_type": "stream",
     "text": [
      "Average male age is - 39.43354749885268\n",
      "Average female age is - 36.85823043357163\n",
      "Average high income male age is - 44.62578805163614\n",
      "Average high income female age is - 42.125530110262936\n"
     ]
    }
   ],
   "source": [
    "print(f\"Average male age is - {males.age.mean()}\")\n",
    "print(f\"Average female age is - {females.age.mean()}\")\n",
    "print(f\"Average high income male age is - {h_income_males.age.mean()}\")\n",
    "print(f\"Average high income female age is - {h_income_females.age.mean()}\")"
   ]
  },
  {
   "cell_type": "code",
   "execution_count": 100,
   "id": "b4ef3311-06b6-4cbc-9678-68b1ac7b1b4a",
   "metadata": {
    "tags": []
   },
   "outputs": [
    {
     "name": "stdout",
     "output_type": "stream",
     "text": [
      "Statistics of hours worked per week for men:\n",
      " mu: 42.42808627810923\n",
      " var: 146.88846717140746\n",
      " std: 12.11975524387384\n",
      "\n",
      "Statistics of hours worked per week for women:\n",
      " mu: 36.410361154953115\n",
      " var: 139.50679700047422\n",
      " std: 11.811299547487323\n",
      "\n"
     ]
    }
   ],
   "source": [
    "male_mu, male_var, male_std = (\n",
    "    males.hr_per_week.mean(),\n",
    "    males.hr_per_week.var(),\n",
    "    males.hr_per_week.std(),\n",
    ")\n",
    "female_mu, female_var, female_std = (\n",
    "    females.hr_per_week.mean(),\n",
    "    females.hr_per_week.var(),\n",
    "    females.hr_per_week.std(),\n",
    ")\n",
    "\n",
    "print(\n",
    "    \"Statistics of hours worked per week for men:\\n\",\n",
    "    f\"mu: {male_mu}\\n\",\n",
    "    f\"var: {male_var}\\n\",\n",
    "    f\"std: {male_std}\\n\",\n",
    ")\n",
    "print(\n",
    "    \"Statistics of hours worked per week for women:\\n\",\n",
    "    f\"mu: {female_mu}\\n\",\n",
    "    f\"var: {female_var}\\n\",\n",
    "    f\"std: {female_std}\\n\",\n",
    ")"
   ]
  },
  {
   "cell_type": "code",
   "execution_count": 101,
   "id": "b97ad14d-91a8-42fd-9fe3-542c4b9328e0",
   "metadata": {},
   "outputs": [
    {
     "name": "stdout",
     "output_type": "stream",
     "text": [
      "Median age per men and women is 38.0 and 35.0\n",
      "Median age per men and women with high-income is 44.0 and 41.0\n"
     ]
    }
   ],
   "source": [
    "ml_median = males.age.median()\n",
    "fm_median = females.age.median()\n",
    "print(\"Median age per men and women is\", ml_median, \"and\", fm_median)\n",
    "\n",
    "ml_median_age = h_income_males.age.median()\n",
    "fm_median_age = h_income_females.age.median()\n",
    "print(\n",
    "    \"Median age per men and women with high-income is\",\n",
    "    ml_median_age,\n",
    "    \"and\",\n",
    "    fm_median_age,\n",
    ")"
   ]
  },
  {
   "cell_type": "markdown",
   "id": "f3155f43-56c0-4099-9aac-8ebae79454e9",
   "metadata": {},
   "source": [
    "## Data distributions"
   ]
  },
  {
   "cell_type": "code",
   "execution_count": 102,
   "id": "8ba8265d-12ef-48d2-9f91-8fe5d6616c05",
   "metadata": {
    "tags": []
   },
   "outputs": [
    {
     "data": {
      "text/plain": [
       "<AxesSubplot:>"
      ]
     },
     "execution_count": 102,
     "metadata": {},
     "output_type": "execute_result"
    },
    {
     "data": {
      "image/png": "[encoded data removed]",
      "text/plain": [
       "<Figure size 640x480 with 1 Axes>"
      ]
     },
     "metadata": {},
     "output_type": "display_data"
    }
   ],
   "source": [
    "# the normed arg has been deprecated in favor of density\n",
    "# the hist is positively skewed\n",
    "males.age.hist(density=0, histtype=\"stepfilled\", bins=20)"
   ]
  },
  {
   "cell_type": "code",
   "execution_count": 103,
   "id": "33b11fb4-b531-45c1-b872-4d57582689db",
   "metadata": {
    "tags": []
   },
   "outputs": [
    {
     "data": {
      "text/plain": [
       "<AxesSubplot:>"
      ]
     },
     "execution_count": 103,
     "metadata": {},
     "output_type": "execute_result"
    },
    {
     "data": {
      "image/png": "[encoded data removed]",
      "text/plain": [
       "<Figure size 640x480 with 1 Axes>"
      ]
     },
     "metadata": {},
     "output_type": "display_data"
    }
   ],
   "source": [
    "# the hist is also positively skewed\n",
    "females.age.hist(density=0, histtype=\"stepfilled\", bins=10)"
   ]
  },
  {
   "cell_type": "code",
   "execution_count": 104,
   "id": "79469cbe-f7ae-463f-a76e-7791d3757c21",
   "metadata": {
    "tags": []
   },
   "outputs": [
    {
     "data": {
      "text/plain": [
       "<AxesSubplot:>"
      ]
     },
     "execution_count": 104,
     "metadata": {},
     "output_type": "execute_result"
    },
    {
     "data": {
      "image/png": "[encoded data removed]",
      "text/plain": [
       "<Figure size 640x480 with 1 Axes>"
      ]
     },
     "metadata": {},
     "output_type": "display_data"
    }
   ],
   "source": [
    "females.age.hist(density=0, histtype=\"stepfilled\", alpha=0.5, bins=20)\n",
    "males.age.hist(\n",
    "    density=0,\n",
    "    histtype=\"stepfilled\",\n",
    "    alpha=0.75,\n",
    "    color=sns.desaturate(\"indianred\", 0.75),\n",
    "    bins=10,\n",
    ")"
   ]
  },
  {
   "cell_type": "code",
   "execution_count": 105,
   "id": "a37ea0ae-af50-4959-96b5-75f9e2d7f458",
   "metadata": {
    "tags": []
   },
   "outputs": [
    {
     "data": {
      "text/plain": [
       "<AxesSubplot:>"
      ]
     },
     "execution_count": 105,
     "metadata": {},
     "output_type": "execute_result"
    },
    {
     "data": {
      "image/png": "[encoded data removed]",
      "text/plain": [
       "<Figure size 640x480 with 1 Axes>"
      ]
     },
     "metadata": {},
     "output_type": "display_data"
    }
   ],
   "source": [
    "females.age.hist(density=1, histtype=\"stepfilled\", alpha=0.5, bins=20)\n",
    "males.age.hist(\n",
    "    density=1,\n",
    "    histtype=\"stepfilled\",\n",
    "    alpha=0.75,\n",
    "    color=sns.desaturate(\"indianred\", 0.75),\n",
    "    bins=10,\n",
    ")"
   ]
  },
  {
   "cell_type": "code",
   "execution_count": 106,
   "id": "87e33f8e-7e0d-4383-b06e-73579999a907",
   "metadata": {
    "tags": []
   },
   "outputs": [
    {
     "data": {
      "text/plain": [
       "<AxesSubplot:>"
      ]
     },
     "execution_count": 106,
     "metadata": {},
     "output_type": "execute_result"
    },
    {
     "data": {
      "image/png": "[encoded data removed]",
      "text/plain": [
       "<Figure size 640x480 with 1 Axes>"
      ]
     },
     "metadata": {},
     "output_type": "display_data"
    }
   ],
   "source": [
    "females.age.hist(density=1, histtype=\"step\", cumulative=True, alpha=0.5, bins=20)\n",
    "males.age.hist(\n",
    "    density=1,\n",
    "    histtype=\"step\",\n",
    "    cumulative=True,\n",
    "    alpha=0.75,\n",
    "    color=sns.desaturate(\"indianred\", 0.75),\n",
    "    bins=20,\n",
    ")"
   ]
  },
  {
   "cell_type": "markdown",
   "id": "86a33e7d-1c19-48cd-89af-f3d1d89135f9",
   "metadata": {},
   "source": [
    "## Outlier treatment"
   ]
  },
  {
   "cell_type": "code",
   "execution_count": 107,
   "id": "c03b34b7-9b55-4e29-93e3-b90c7f25c711",
   "metadata": {
    "tags": []
   },
   "outputs": [],
   "source": [
    "age_upper_bound = df.age < df.age.median() + 35\n",
    "age_lower_bound = df.age > df.age.median() - 15\n",
    "\n",
    "df2 = df.drop(df[~(h_income_mask & age_lower_bound & age_upper_bound)].index)"
   ]
  },
  {
   "cell_type": "code",
   "execution_count": 108,
   "id": "296ae1fb-76a1-44ae-a289-bce1f41f2cff",
   "metadata": {
    "tags": []
   },
   "outputs": [],
   "source": [
    "h_income_males_2 = h_income_males.drop(\n",
    "    h_income_males[\n",
    "        (\n",
    "            (h_income_males.age > df.age.median() + 35)\n",
    "            & (h_income_males.age > df.age.median() - 15)\n",
    "        )\n",
    "    ].index\n",
    ")\n",
    "\n",
    "h_income_females_2 = h_income_females.drop(\n",
    "    h_income_females[\n",
    "        (\n",
    "            (h_income_females.age > df.age.median() + 35)\n",
    "            & (h_income_females.age > df.age.median() - 15)\n",
    "        )\n",
    "    ].index\n",
    ")"
   ]
  },
  {
   "cell_type": "code",
   "execution_count": 109,
   "id": "05c38acb-2fb6-480f-8a2f-18aa7a6f6bb8",
   "metadata": {
    "tags": []
   },
   "outputs": [
    {
     "name": "stdout",
     "output_type": "stream",
     "text": [
      "Statistics of age for men:\n",
      " mu: 44.317982123920615\n",
      " std: 10.019749857171409\n",
      " median: 44.0\n",
      " min: 19\n",
      " max: 72\n",
      "\n",
      "Statistics of age for women:\n",
      " mu: 41.877028181041844\n",
      " std: 10.036441807343707\n",
      " median: 41.0\n",
      " min: 19\n",
      " max: 72\n",
      "\n"
     ]
    }
   ],
   "source": [
    "male_mu, male_median, male_std = (\n",
    "    h_income_males_2.age.mean(),\n",
    "    h_income_males_2.age.median(),\n",
    "    h_income_males_2.age.std(),\n",
    ")\n",
    "female_mu, female_median, female_std = (\n",
    "    h_income_females_2.age.mean(),\n",
    "    h_income_females_2.age.median(),\n",
    "    h_income_females_2.age.std(),\n",
    ")\n",
    "\n",
    "print(\n",
    "    \"Statistics of age for men:\\n\",\n",
    "    f\"mu: {male_mu}\\n\",\n",
    "    f\"std: {male_std}\\n\",\n",
    "    f\"median: {male_median}\\n\",\n",
    "    f\"min: {h_income_males_2.age.min()}\\n\",\n",
    "    f\"max: {h_income_males_2.age.max()}\\n\",\n",
    ")\n",
    "print(\n",
    "    \"Statistics of age for women:\\n\",\n",
    "    f\"mu: {female_mu}\\n\",\n",
    "    f\"std: {female_std}\\n\",\n",
    "    f\"median: {female_median}\\n\",\n",
    "    f\"min: {h_income_females_2.age.min()}\\n\",\n",
    "    f\"max: {h_income_females_2.age.max()}\\n\",\n",
    ")"
   ]
  },
  {
   "cell_type": "code",
   "execution_count": 110,
   "id": "c0aa6aaf-89de-4585-bdea-79c856681226",
   "metadata": {
    "tags": []
   },
   "outputs": [
    {
     "data": {
      "text/plain": [
       "<AxesSubplot:>"
      ]
     },
     "execution_count": 110,
     "metadata": {},
     "output_type": "execute_result"
    },
    {
     "data": {
      "image/png": "[encoded data removed]",
      "text/plain": [
       "<Figure size 1340x500 with 1 Axes>"
      ]
     },
     "metadata": {},
     "output_type": "display_data"
    }
   ],
   "source": [
    "plt.figure(figsize=(13.4, 5))\n",
    "df.age[(df.income == \">50K\")].plot(alpha=0.25, color=\"blue\")\n",
    "df2.age[(df2.income == \">50K\")].plot(alpha=0.45, color=\"red\")"
   ]
  },
  {
   "cell_type": "code",
   "execution_count": 111,
   "id": "edff41c0-36ca-4fc4-8a31-11520a050209",
   "metadata": {
    "tags": []
   },
   "outputs": [
    {
     "name": "stdout",
     "output_type": "stream",
     "text": [
      "The mean difference with outliers is: 2.58\n",
      "The mean difference with outliers is: 2.44\n"
     ]
    }
   ],
   "source": [
    "print(\n",
    "    f\"The mean difference with outliers is: {(males.age.mean() - females.age.mean()):.2f}\"\n",
    ")\n",
    "print(\n",
    "    f\"The mean difference with outliers is: {(h_income_males_2.age.mean() - h_income_females_2.age.mean()):.2f}\"\n",
    ")"
   ]
  },
  {
   "cell_type": "code",
   "execution_count": 112,
   "id": "55f048d8-cfc6-467b-8f97-8dafd9d9ced5",
   "metadata": {
    "tags": []
   },
   "outputs": [
    {
     "data": {
      "text/plain": [
       "[<matplotlib.lines.Line2D at 0x7fe0b8540be0>]"
      ]
     },
     "execution_count": 112,
     "metadata": {},
     "output_type": "execute_result"
    },
    {
     "data": {
      "image/png": "[encoded data removed]",
      "text/plain": [
       "<Figure size 640x480 with 1 Axes>"
      ]
     },
     "metadata": {},
     "output_type": "display_data"
    }
   ],
   "source": [
    "countx, divisionx = np.histogram(h_income_males_2.age, density=True)\n",
    "county, divisiony = np.histogram(h_income_females_2.age, density=True)\n",
    "\n",
    "val = [(divisionx[i], divisionx[i + 1] / 2) for i in range(len(divisionx) - 1)]\n",
    "plt.plot(countx - county, \"o-\")"
   ]
  },
  {
   "cell_type": "code",
   "execution_count": 113,
   "id": "f5825af1-2975-453f-8f29-6c2e13e61519",
   "metadata": {
    "tags": []
   },
   "outputs": [
    {
     "name": "stdout",
     "output_type": "stream",
     "text": [
      "Skewness of male population = 0.26644438384328223\n",
      "Skewness of male population = 0.3863335249128606\n"
     ]
    }
   ],
   "source": [
    "def skewness(x):\n",
    "    res = 0\n",
    "    m = x.mean()\n",
    "    s = x.std()\n",
    "\n",
    "    for i in x:\n",
    "        res += (i - m) * (i - m) * (i - m)\n",
    "    res /= len(x) * s * s * s\n",
    "    return res\n",
    "\n",
    "\n",
    "print(f\"Skewness of male population = {skewness(h_income_males_2.age)}\")\n",
    "print(f\"Skewness of male population = {skewness(h_income_females_2.age)}\")"
   ]
  },
  {
   "cell_type": "code",
   "execution_count": 114,
   "id": "f07c0a1b-af9c-46dd-bf85-5e1e0a2b217a",
   "metadata": {
    "tags": []
   },
   "outputs": [
    {
     "name": "stdout",
     "output_type": "stream",
     "text": [
      "Pearson's coefficient of male population = 9.558304022209926\n",
      "Pearson's coefficient of male population = 26.406726907280902\n"
     ]
    }
   ],
   "source": [
    "def pearson(x):\n",
    "    return 3 * (x.mean() - x.median()) * x.std()\n",
    "\n",
    "\n",
    "print(f\"Pearson's coefficient of male population = {pearson(h_income_males_2.age)}\")\n",
    "print(f\"Pearson's coefficient of male population = {pearson(h_income_females_2.age)}\")"
   ]
  },
  {
   "cell_type": "markdown",
   "id": "ca816bb6-4ee8-46df-b70c-3c7a14448ce7",
   "metadata": {},
   "source": [
    "## Kernel density"
   ]
  },
  {
   "cell_type": "code",
   "execution_count": 115,
   "id": "7f020723-db83-44f0-a6d0-cc69cd72a7c3",
   "metadata": {
    "tags": []
   },
   "outputs": [
    {
     "data": {
      "text/plain": [
       "[<matplotlib.lines.Line2D at 0x7fe0b83dd4b0>]"
      ]
     },
     "execution_count": 115,
     "metadata": {},
     "output_type": "execute_result"
    },
    {
     "data": {
      "image/png": "[encoded data removed]",
      "text/plain": [
       "<Figure size 640x480 with 1 Axes>"
      ]
     },
     "metadata": {},
     "output_type": "display_data"
    }
   ],
   "source": [
    "x1 = np.random.normal(-1, 0.5, 15)\n",
    "x2 = np.random.normal(6, 1, 10)\n",
    "y = np.r_[x1, x2]\n",
    "x = np.linspace(min(y), max(y), 100)\n",
    "s = 0.4\n",
    "kernels = np.transpose([stats.norm.pdf(x, yi, s) for yi in y])\n",
    "plt.plot(x, kernels, \"k:\")\n",
    "plt.plot(x, kernels.sum(1), \"r\")\n",
    "plt.plot(y, np.zeros(len(y)), \"bo\", ms=10)"
   ]
  },
  {
   "cell_type": "code",
   "execution_count": 116,
   "id": "772da079-310a-4586-a109-d4404a9907b1",
   "metadata": {
    "tags": []
   },
   "outputs": [
    {
     "data": {
      "text/plain": [
       "[<matplotlib.lines.Line2D at 0x7fe0b842fe20>]"
      ]
     },
     "execution_count": 116,
     "metadata": {},
     "output_type": "execute_result"
    },
    {
     "data": {
      "image/png": "[encoded data removed]",
      "text/plain": [
       "<Figure size 640x480 with 1 Axes>"
      ]
     },
     "metadata": {},
     "output_type": "display_data"
    }
   ],
   "source": [
    "density = stats.gaussian_kde(y)\n",
    "xgrid = np.linspace(x.min(), x.max(), 200)\n",
    "plt.hist(y, bins=28, density=True)\n",
    "plt.plot(xgrid, density(xgrid), \"r-\")"
   ]
  },
  {
   "cell_type": "code",
   "execution_count": 117,
   "id": "07039dd3-62a0-40e9-9ca8-217cff1d65ec",
   "metadata": {
    "tags": []
   },
   "outputs": [
    {
     "name": "stdout",
     "output_type": "stream",
     "text": [
      " MSE :  0.0011414509852669867\n"
     ]
    }
   ],
   "source": [
    "NTs = 200\n",
    "mu = 0.0\n",
    "var = 1.0\n",
    "err = 0.0\n",
    "NPs = 1000\n",
    "for i in range(NTs):\n",
    "    x = np.random.normal(mu, var, NPs)\n",
    "    err += (x.mean() - mu) ** 2\n",
    "print(\" MSE : \", err / NTs)"
   ]
  },
  {
   "cell_type": "code",
   "execution_count": null,
   "id": "e27716bd-d7d9-475d-acba-b749be51a559",
   "metadata": {},
   "outputs": [],
   "source": []
  },
  {
   "cell_type": "code",
   "execution_count": null,
   "id": "7a46b316-b2ec-47de-af98-959e8a987aff",
   "metadata": {},
   "outputs": [],
   "source": []
  },
  {
   "cell_type": "code",
   "execution_count": 118,
   "id": "56ebb711-2668-4b5c-9ad2-3389fa8c1893",
   "metadata": {
    "tags": []
   },
   "outputs": [],
   "source": [
    "data = pd.read_csv(\"data/ACCIDENTS_GU_BCN_2013.csv\", encoding=\"ISO-8859-1\")"
   ]
  },
  {
   "cell_type": "code",
   "execution_count": 120,
   "id": "c92e95a7-6079-4c11-85b9-ddee6b382a2a",
   "metadata": {
    "tags": []
   },
   "outputs": [],
   "source": [
    "data[\"Date\"] = data[\"Mes de any\"].astype(str) + \"-\" + data[\"Dia de mes\"].astype(str)\n",
    "data[\"Date\"] = pd.to_datetime(data[\"Date\"], format=\"%m-%d\")\n",
    "data[\"Date\"] = data[\"Date\"].dt.strftime(\"%m-%d\")"
   ]
  },
  {
   "cell_type": "code",
   "execution_count": 121,
   "id": "1ad92d86-4fd7-4492-a916-c72a3c666d38",
   "metadata": {
    "tags": []
   },
   "outputs": [
    {
     "data": {
      "text/html": [
       "<div>\n",
       "<style scoped>\n",
       "    .dataframe tbody tr th:only-of-type {\n",
       "        vertical-align: middle;\n",
       "    }\n",
       "\n",
       "    .dataframe tbody tr th {\n",
       "        vertical-align: top;\n",
       "    }\n",
       "\n",
       "    .dataframe thead th {\n",
       "        text-align: right;\n",
       "    }\n",
       "</style>\n",
       "<table border=\"1\" class=\"dataframe\">\n",
       "  <thead>\n",
       "    <tr style=\"text-align: right;\">\n",
       "      <th></th>\n",
       "      <th>Date</th>\n",
       "    </tr>\n",
       "  </thead>\n",
       "  <tbody>\n",
       "    <tr>\n",
       "      <th>0</th>\n",
       "      <td>10-16</td>\n",
       "    </tr>\n",
       "    <tr>\n",
       "      <th>1</th>\n",
       "      <td>10-29</td>\n",
       "    </tr>\n",
       "    <tr>\n",
       "      <th>2</th>\n",
       "      <td>07-23</td>\n",
       "    </tr>\n",
       "    <tr>\n",
       "      <th>3</th>\n",
       "      <td>02-26</td>\n",
       "    </tr>\n",
       "    <tr>\n",
       "      <th>4</th>\n",
       "      <td>11-18</td>\n",
       "    </tr>\n",
       "  </tbody>\n",
       "</table>\n",
       "</div>"
      ],
      "text/plain": [
       "    Date\n",
       "0  10-16\n",
       "1  10-29\n",
       "2  07-23\n",
       "3  02-26\n",
       "4  11-18"
      ]
     },
     "execution_count": 121,
     "metadata": {},
     "output_type": "execute_result"
    }
   ],
   "source": [
    "data[[\"Date\"]].head()"
   ]
  },
  {
   "cell_type": "code",
   "execution_count": 122,
   "id": "c53625d6-83e6-465d-9b09-750262e90b71",
   "metadata": {
    "tags": []
   },
   "outputs": [
    {
     "name": "stdout",
     "output_type": "stream",
     "text": [
      "Mean: 25.9096\n"
     ]
    }
   ],
   "source": [
    "accidents = data.groupby([\"Date\"]).size()\n",
    "print(\"Mean:\", round(accidents.mean(), 4))"
   ]
  },
  {
   "cell_type": "code",
   "execution_count": 123,
   "id": "6d627bdc-fdde-4106-a223-220ddbee88b8",
   "metadata": {
    "tags": []
   },
   "outputs": [],
   "source": [
    "df = accidents.to_frame()\n",
    "N_test = 10000\n",
    "elements = 200\n",
    "# mean array of samples\n",
    "means = [0] * N_test\n",
    "# sample g enera tion\n",
    "for i in range(N_test):\n",
    "    rows = np.random.choice(df.index.values, elements)\n",
    "    sampled_df = df.loc[rows]\n",
    "    means[i] = sampled_df.mean()"
   ]
  },
  {
   "cell_type": "code",
   "execution_count": 124,
   "id": "378e2eb7-abcc-44f2-827d-e9d756674e17",
   "metadata": {
    "tags": []
   },
   "outputs": [
    {
     "name": "stdout",
     "output_type": "stream",
     "text": [
      "Direct estimation of SE from one sample of 200 elements: 0.6222830392229267\n",
      "Estimation of the SE by simulating 10000 samples of 200 elements: 0.6418789043106183\n"
     ]
    }
   ],
   "source": [
    "rows = np.random.choice(df.index.values, 200)\n",
    "sampled_df = df.loc[rows]\n",
    "est_sigma_mean = sampled_df.std() / math.sqrt(200)\n",
    "print(\"Direct estimation of SE from one sample of 200 elements:\", est_sigma_mean[0])\n",
    "print(\n",
    "    \"Estimation of the SE by simulating 10000 samples of 200 elements:\",\n",
    "    np.array(means).std(),\n",
    ")"
   ]
  },
  {
   "cell_type": "code",
   "execution_count": 125,
   "id": "98a8c82f-c76a-4320-b576-d168148802a3",
   "metadata": {
    "tags": []
   },
   "outputs": [
    {
     "name": "stdout",
     "output_type": "stream",
     "text": [
      "Mean estimate : 25.916336164383562\n"
     ]
    }
   ],
   "source": [
    "def meanBootstrap(X, numberb):\n",
    "    x = [0] * numberb\n",
    "    for i in range(numberb):\n",
    "        sample = [X[j] for j in np.random.randint(len(X), size=len(X))]\n",
    "        x[i] = np.mean(sample)\n",
    "    return x\n",
    "\n",
    "\n",
    "m = meanBootstrap(accidents, 10000)\n",
    "print(\"Mean estimate :\", np.mean(m))"
   ]
  },
  {
   "cell_type": "code",
   "execution_count": 126,
   "id": "215f5cf8-ac39-4cd2-9ee2-c8281105cb90",
   "metadata": {
    "tags": []
   },
   "outputs": [
    {
     "name": "stdout",
     "output_type": "stream",
     "text": [
      "Confidence interval: [24.975156065800284, 26.8440220163915]\n"
     ]
    }
   ],
   "source": [
    "m = accidents.mean()\n",
    "se = accidents.std() / math.sqrt(len(accidents))\n",
    "ci = [m - se * 1.96, m + se * 1.96]\n",
    "print(\"Confidence interval:\", ci)"
   ]
  },
  {
   "cell_type": "code",
   "execution_count": 127,
   "id": "f78ae29d-0d54-4dd5-a480-53723a2dcb71",
   "metadata": {
    "tags": []
   },
   "outputs": [
    {
     "name": "stdout",
     "output_type": "stream",
     "text": [
      "Mean estimate: 25.908071780821917\n",
      "SE of the estimate: 0.47268469176734274\n",
      "Confidence interval: [24.983493150684932, 26.843835616438355]\n"
     ]
    }
   ],
   "source": [
    "m = meanBootstrap(accidents, 10000)\n",
    "sample_mean = np.mean(m)\n",
    "sample_se = np.std(m)\n",
    "print(\"Mean estimate:\", sample_mean)\n",
    "print(\"SE of the estimate:\", sample_se)\n",
    "ci = [np.percentile(m, 2.5), np.percentile(m, 97.5)]\n",
    "print(\"Confidence interval:\", ci)"
   ]
  },
  {
   "cell_type": "code",
   "execution_count": 129,
   "id": "32961ddb-3011-441a-bf00-1d349116dd5b",
   "metadata": {
    "tags": []
   },
   "outputs": [
    {
     "name": "stdout",
     "output_type": "stream",
     "text": [
      "2010: Mean 24.81095890410959\n",
      "2013: Mean 25.90958904109589\n"
     ]
    }
   ],
   "source": [
    "data = pd.read_csv(\"data/ACCIDENTS_GU_BCN_2010.csv\", encoding=\"latin -1\")\n",
    "\n",
    "# Create a new column which is the date\n",
    "data[\"Date\"] = (\n",
    "    data[\"Dia de mes\"].apply(lambda x: str(x))\n",
    "    + \"-\"\n",
    "    + data[\"Mes de any\"].apply(lambda x: str(x))\n",
    ")\n",
    "data2 = data[\"Date\"]\n",
    "counts2010 = data[\"Date\"].value_counts()\n",
    "print(\"2010: Mean\", counts2010.mean())\n",
    "\n",
    "data = pd.read_csv(\"data/ACCIDENTS_GU_BCN_2013.csv\", encoding=\"ISO-8859-1\")\n",
    "\n",
    "# Create a new column which is the date\n",
    "data[\"Date\"] = (\n",
    "    data[\"Dia de mes\"].apply(lambda x: str(x))\n",
    "    + \"-\"\n",
    "    + data[\"Mes de any\"].apply(lambda x: str(x))\n",
    ")\n",
    "data2 = data[\"Date\"]\n",
    "counts2013 = data[\"Date\"].value_counts()\n",
    "print(\"2013: Mean\", counts2013.mean())"
   ]
  },
  {
   "cell_type": "code",
   "execution_count": 130,
   "id": "a9b0ecc0-b38e-4a5e-b2c9-83ee68bccfd2",
   "metadata": {
    "tags": []
   },
   "outputs": [
    {
     "name": "stdout",
     "output_type": "stream",
     "text": [
      "2010 accident rate estimate: 24.81095890410959\n",
      "2013 accident rate estimate: 25.90958904109589\n",
      "CI for 2013:  [24.975156065800284, 26.8440220163915]\n"
     ]
    }
   ],
   "source": [
    "n = len(counts2013)\n",
    "mean = counts2013.mean()\n",
    "s = counts2013.std()\n",
    "ci = [mean - s * 1.96 / np.sqrt(n), mean + s * 1.96 / np.sqrt(n)]\n",
    "print(\"2010 accident rate estimate:\", counts2010.mean())\n",
    "print(\"2013 accident rate estimate:\", counts2013.mean())\n",
    "print(\"CI for 2013: \", ci)"
   ]
  },
  {
   "cell_type": "code",
   "execution_count": 131,
   "id": "cd0f1212-87ba-43d4-8310-b00ac15def07",
   "metadata": {
    "tags": []
   },
   "outputs": [
    {
     "name": "stdout",
     "output_type": "stream",
     "text": [
      "m: 365 n: 365\n",
      "meandifference: 1.0986301369863014\n"
     ]
    }
   ],
   "source": [
    "m = len(counts2010)\n",
    "n = len(counts2013)\n",
    "p = counts2013.mean() - counts2010.mean()\n",
    "print(\"m:\", m, \"n:\", n)\n",
    "print(\"meandifference:\", p)"
   ]
  },
  {
   "cell_type": "code",
   "execution_count": 135,
   "id": "8e753075-3d42-41b5-9ab4-7d20daece8c3",
   "metadata": {
    "tags": []
   },
   "outputs": [],
   "source": [
    "#pooling distributions\n",
    "x = counts2010\n",
    "y = counts2013\n",
    "pool = np.concatenate([x, y])\n",
    "np.random.shuffle(pool)\n",
    "\n",
    "# sample generation\n",
    "N = 10000  # number of samples\n",
    "diff = np.zeros(N)\n",
    "for i in range(N):\n",
    "    p1 = [random.choice(pool) for _ in range(n)]\n",
    "    p2 = [random.choice(pool) for _ in range(n)]\n",
    "    diff[i] = np.mean(p1) - np.mean(p2)"
   ]
  },
  {
   "cell_type": "code",
   "execution_count": 136,
   "id": "d641e77d-a791-4dbb-9b4c-1cdfddf86362",
   "metadata": {
    "tags": []
   },
   "outputs": [
    {
     "name": "stdout",
     "output_type": "stream",
     "text": [
      "p-value (Simulation) = 0.0455 4.55% Difference = 1.0986301369863014\n",
      "The effect is likely\n"
     ]
    }
   ],
   "source": [
    "# counting di ffere nces larger than the observed one\n",
    "diff2 = np . array ( diff )\n",
    "w1 = np . where ( diff2 > p) [ 0 ]\n",
    "\n",
    "print(\"p-value (Simulation) =\", len(w1) / float(N), f\"{len(w1) /float(N) * 100}%\", \"Difference =\", p)\n",
    "\n",
    "if (len(w1)/float(N) ) < 0.05:\n",
    "    print(\"The effect is likely\")\n",
    "else:\n",
    "    print(\"The effect is not likely\")"
   ]
  },
  {
   "cell_type": "code",
   "execution_count": null,
   "id": "683bf2aa-9c3d-4dae-940d-235ae91d80b8",
   "metadata": {},
   "outputs": [],
   "source": []
  }
 ],
 "metadata": {
  "kernelspec": {
   "display_name": "Python 3 (ipykernel)",
   "language": "python",
   "name": "python3"
  },
  "language_info": {
   "codemirror_mode": {
    "name": "ipython",
    "version": 3
   },
   "file_extension": ".py",
   "mimetype": "text/x-python",
   "name": "python",
   "nbconvert_exporter": "python",
   "pygments_lexer": "ipython3",
   "version": "3.10.6"
  }
 },
 "nbformat": 4,
 "nbformat_minor": 5
}
